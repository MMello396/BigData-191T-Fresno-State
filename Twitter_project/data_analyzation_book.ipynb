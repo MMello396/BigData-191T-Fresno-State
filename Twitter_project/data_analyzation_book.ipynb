{
 "cells": [
  {
   "cell_type": "code",
   "execution_count": 113,
   "metadata": {},
   "outputs": [],
   "source": [
    "import numpy as np\n",
    "import pandas as pd\n",
    "import matplotlib.pyplot as plt\n",
    "import json\n",
    "import os\n",
    "\n",
    "# data visualization\n",
    "import seaborn as sns\n",
    "%matplotlib inline\n",
    "from matplotlib import pyplot as plt\n",
    "from matplotlib import style"
   ]
  },
  {
   "cell_type": "code",
   "execution_count": 130,
   "metadata": {},
   "outputs": [],
   "source": [
    "with open('data\\\\food\\\\flattened_carlsjs_tweets.txt') as chain:\n",
    "    chain_df = pd.DataFrame(json.loads(line) for line in chain)"
   ]
  },
  {
   "cell_type": "code",
   "execution_count": 131,
   "metadata": {},
   "outputs": [],
   "source": [
    "#need to parse text field into array of strings\n",
    "chain = chain_df[['created_at','text']].astype(str)\n",
    "\n",
    "chain['created_at'].astype(str)\n",
    "\n",
    "# parse dates and return just day\n",
    "for key,items in chain['created_at'].iteritems():\n",
    "    chain['created_at'][key] = chain['created_at'][key].split(maxsplit=3)\n",
    "    chain['created_at'][key] = chain['created_at'][key][1] + ' ' + chain['created_at'][key][2]\n",
    "    \n",
    "# loop through dataframe series and makes them arrays of strings representing words\n",
    "for key,items in chain['text'].iteritems():\n",
    "    chain['text'][key] = chain['text'][key].split()"
   ]
  },
  {
   "cell_type": "code",
   "execution_count": 132,
   "metadata": {},
   "outputs": [],
   "source": [
    "chain.to_csv('data\\\\food\\\\foodcsvs\\\\flattened_carlsjs_tweets.txt',index = False)"
   ]
  },
  {
   "cell_type": "code",
   "execution_count": null,
   "metadata": {},
   "outputs": [],
   "source": []
  }
 ],
 "metadata": {
  "kernelspec": {
   "display_name": "Python 3",
   "language": "python",
   "name": "python3"
  },
  "language_info": {
   "codemirror_mode": {
    "name": "ipython",
    "version": 3
   },
   "file_extension": ".py",
   "mimetype": "text/x-python",
   "name": "python",
   "nbconvert_exporter": "python",
   "pygments_lexer": "ipython3",
   "version": "3.7.1"
  }
 },
 "nbformat": 4,
 "nbformat_minor": 2
}
