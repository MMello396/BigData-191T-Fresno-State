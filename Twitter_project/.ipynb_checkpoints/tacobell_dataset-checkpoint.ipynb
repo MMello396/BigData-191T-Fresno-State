{
 "cells": [
  {
   "cell_type": "code",
   "execution_count": 76,
   "metadata": {},
   "outputs": [],
   "source": [
    "import numpy as np\n",
    "import pandas as pd\n",
    "import matplotlib.pyplot as plt\n",
    "import json\n",
    "import os\n",
    "\n",
    "# data visualization\n",
    "import seaborn as sns\n",
    "%matplotlib inline\n",
    "from matplotlib import pyplot as plt\n",
    "from matplotlib import style"
   ]
  },
  {
   "cell_type": "code",
   "execution_count": 77,
   "metadata": {},
   "outputs": [],
   "source": [
    "with open('data\\\\food\\\\flattened_mcdonalds_tweets.txt') as mcdt:\n",
    "    mcdonalds_df = pd.DataFrame(json.loads(line) for line in mcdt)"
   ]
  },
  {
   "cell_type": "code",
   "execution_count": 78,
   "metadata": {
    "scrolled": true
   },
   "outputs": [
    {
     "data": {
      "text/html": [
       "<div>\n",
       "<style scoped>\n",
       "    .dataframe tbody tr th:only-of-type {\n",
       "        vertical-align: middle;\n",
       "    }\n",
       "\n",
       "    .dataframe tbody tr th {\n",
       "        vertical-align: top;\n",
       "    }\n",
       "\n",
       "    .dataframe thead th {\n",
       "        text-align: right;\n",
       "    }\n",
       "</style>\n",
       "<table border=\"1\" class=\"dataframe\">\n",
       "  <thead>\n",
       "    <tr style=\"text-align: right;\">\n",
       "      <th></th>\n",
       "      <th>created_at</th>\n",
       "      <th>text</th>\n",
       "    </tr>\n",
       "  </thead>\n",
       "  <tbody>\n",
       "    <tr>\n",
       "      <th>0</th>\n",
       "      <td>Thu Apr 25 18:27:18 +0000 2019</td>\n",
       "      <td>[RT, @russell_kane:, Kaneing:, McDonalds, Paper, Straws, #McDonaldsstraws, #Petition, ., On, tour., https://t.co/plkyuJJHMR, https://t.co/EoYVjtnReq]</td>\n",
       "    </tr>\n",
       "    <tr>\n",
       "      <th>1</th>\n",
       "      <td>Thu Apr 25 18:27:05 +0000 2019</td>\n",
       "      <td>[RT, @DenisHolton:, things, that, don’t, make, you, ugly:, -, acne, -, your, weight, -, scars, -, stretch, marks, -, body, hair, -, thinning, hair/loss, -, eczema…]</td>\n",
       "    </tr>\n",
       "    <tr>\n",
       "      <th>2</th>\n",
       "      <td>Thu Apr 25 18:26:43 +0000 2019</td>\n",
       "      <td>[Ba, da, pa, pa, I’m, lovn, it, @McDonalds, https://t.co/6Kf054wDOi]</td>\n",
       "    </tr>\n",
       "    <tr>\n",
       "      <th>3</th>\n",
       "      <td>Thu Apr 25 18:26:41 +0000 2019</td>\n",
       "      <td>[McDonald’s, Has, 250,000, Jobs, to, Fill, —, and, It, Wants, to, Hire, Older, Americans, https://t.co/Nmidiok7TC]</td>\n",
       "    </tr>\n",
       "    <tr>\n",
       "      <th>4</th>\n",
       "      <td>Thu Apr 25 18:26:30 +0000 2019</td>\n",
       "      <td>[@McDonalds, You, couldn\"t, pay, me, to, eat, a, free, big, Mac,thanks,but, no, thanks]</td>\n",
       "    </tr>\n",
       "  </tbody>\n",
       "</table>\n",
       "</div>"
      ],
      "text/plain": [
       "                       created_at  \\\n",
       "0  Thu Apr 25 18:27:18 +0000 2019   \n",
       "1  Thu Apr 25 18:27:05 +0000 2019   \n",
       "2  Thu Apr 25 18:26:43 +0000 2019   \n",
       "3  Thu Apr 25 18:26:41 +0000 2019   \n",
       "4  Thu Apr 25 18:26:30 +0000 2019   \n",
       "\n",
       "                                                                                                                                                                   text  \n",
       "0                 [RT, @russell_kane:, Kaneing:, McDonalds, Paper, Straws, #McDonaldsstraws, #Petition, ., On, tour., https://t.co/plkyuJJHMR, https://t.co/EoYVjtnReq]  \n",
       "1  [RT, @DenisHolton:, things, that, don’t, make, you, ugly:, -, acne, -, your, weight, -, scars, -, stretch, marks, -, body, hair, -, thinning, hair/loss, -, eczema…]  \n",
       "2                                                                                                  [Ba, da, pa, pa, I’m, lovn, it, @McDonalds, https://t.co/6Kf054wDOi]  \n",
       "3                                                    [McDonald’s, Has, 250,000, Jobs, to, Fill, —, and, It, Wants, to, Hire, Older, Americans, https://t.co/Nmidiok7TC]  \n",
       "4                                                                               [@McDonalds, You, couldn\"t, pay, me, to, eat, a, free, big, Mac,thanks,but, no, thanks]  "
      ]
     },
     "execution_count": 78,
     "metadata": {},
     "output_type": "execute_result"
    }
   ],
   "source": [
    "#need to parse text field into array of strings\n",
    "mcdonalds = mcdonalds_df[['created_at','text']]\n",
    "\n",
    "# loop through dataframe series and makes them arrays of strings representing words\n",
    "for key,items in mcdonalds['text'].iteritems():\n",
    "    mcdonalds['text'][key] = mcdonalds['text'][key].split()\n",
    "    \n",
    "mcdonalds.head()"
   ]
  },
  {
   "cell_type": "code",
   "execution_count": 79,
   "metadata": {},
   "outputs": [],
   "source": [
    "mcdonalds.to_csv('data\\\\food\\\\foodcsvs\\\\flattened_mcdonalds_tweets.txt')"
   ]
  },
  {
   "cell_type": "code",
   "execution_count": null,
   "metadata": {},
   "outputs": [],
   "source": []
  }
 ],
 "metadata": {
  "kernelspec": {
   "display_name": "Python 3",
   "language": "python",
   "name": "python3"
  },
  "language_info": {
   "codemirror_mode": {
    "name": "ipython",
    "version": 3
   },
   "file_extension": ".py",
   "mimetype": "text/x-python",
   "name": "python",
   "nbconvert_exporter": "python",
   "pygments_lexer": "ipython3",
   "version": "3.7.1"
  }
 },
 "nbformat": 4,
 "nbformat_minor": 2
}
